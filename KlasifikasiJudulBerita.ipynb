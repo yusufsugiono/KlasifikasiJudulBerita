{
  "nbformat": 4,
  "nbformat_minor": 0,
  "metadata": {
    "colab": {
      "name": "KlasifikasiJudulBerita.ipynb",
      "provenance": [],
      "collapsed_sections": []
    },
    "kernelspec": {
      "name": "python3",
      "display_name": "Python 3"
    }
  },
  "cells": [
    {
      "cell_type": "code",
      "metadata": {
        "id": "dcXSTeTa9qzM"
      },
      "source": [
        "import pandas as pd\r\n",
        "import numpy as np"
      ],
      "execution_count": 1,
      "outputs": []
    },
    {
      "cell_type": "code",
      "metadata": {
        "id": "OmFWIr259xq2"
      },
      "source": [
        "berita = pd.read_json('berita.json')"
      ],
      "execution_count": 2,
      "outputs": []
    },
    {
      "cell_type": "code",
      "metadata": {
        "colab": {
          "base_uri": "https://localhost:8080/",
          "height": 206
        },
        "id": "y5BEGjwm-FUp",
        "outputId": "e927e745-048a-42e7-e038-5533a7a45f06"
      },
      "source": [
        "berita.head()"
      ],
      "execution_count": 3,
      "outputs": [
        {
          "output_type": "execute_result",
          "data": {
            "text/html": [
              "<div>\n",
              "<style scoped>\n",
              "    .dataframe tbody tr th:only-of-type {\n",
              "        vertical-align: middle;\n",
              "    }\n",
              "\n",
              "    .dataframe tbody tr th {\n",
              "        vertical-align: top;\n",
              "    }\n",
              "\n",
              "    .dataframe thead th {\n",
              "        text-align: right;\n",
              "    }\n",
              "</style>\n",
              "<table border=\"1\" class=\"dataframe\">\n",
              "  <thead>\n",
              "    <tr style=\"text-align: right;\">\n",
              "      <th></th>\n",
              "      <th>judul</th>\n",
              "      <th>kategori</th>\n",
              "    </tr>\n",
              "  </thead>\n",
              "  <tbody>\n",
              "    <tr>\n",
              "      <th>0</th>\n",
              "      <td>Kini Produk Buatan Tangan UMKM Lebih Dicari da...</td>\n",
              "      <td>Bisnis</td>\n",
              "    </tr>\n",
              "    <tr>\n",
              "      <th>1</th>\n",
              "      <td>Dongkrak Produktivitas Petani,  Pupuk Indonesi...</td>\n",
              "      <td>Bisnis</td>\n",
              "    </tr>\n",
              "    <tr>\n",
              "      <th>2</th>\n",
              "      <td>Meikarta Mulai Topping Off Area Distrik 2</td>\n",
              "      <td>Bisnis</td>\n",
              "    </tr>\n",
              "    <tr>\n",
              "      <th>3</th>\n",
              "      <td>Sederet Inovasi Penyaluran BBM Pertamina di Us...</td>\n",
              "      <td>Bisnis</td>\n",
              "    </tr>\n",
              "    <tr>\n",
              "      <th>4</th>\n",
              "      <td>Daftar Terbaru 50 Orang Terkaya di Indonesia, ...</td>\n",
              "      <td>Bisnis</td>\n",
              "    </tr>\n",
              "  </tbody>\n",
              "</table>\n",
              "</div>"
            ],
            "text/plain": [
              "                                               judul kategori\n",
              "0  Kini Produk Buatan Tangan UMKM Lebih Dicari da...   Bisnis\n",
              "1  Dongkrak Produktivitas Petani,  Pupuk Indonesi...   Bisnis\n",
              "2          Meikarta Mulai Topping Off Area Distrik 2   Bisnis\n",
              "3  Sederet Inovasi Penyaluran BBM Pertamina di Us...   Bisnis\n",
              "4  Daftar Terbaru 50 Orang Terkaya di Indonesia, ...   Bisnis"
            ]
          },
          "metadata": {
            "tags": []
          },
          "execution_count": 3
        }
      ]
    },
    {
      "cell_type": "code",
      "metadata": {
        "id": "iFh_UDV2-HY8"
      },
      "source": [
        "kategori = pd.get_dummies(berita.kategori)"
      ],
      "execution_count": 4,
      "outputs": []
    },
    {
      "cell_type": "code",
      "metadata": {
        "id": "ELEM-gtn-Vma"
      },
      "source": [
        "berita = pd.concat([berita, kategori], axis=1)\r\n",
        "berita = berita.drop(columns='kategori')"
      ],
      "execution_count": 5,
      "outputs": []
    },
    {
      "cell_type": "code",
      "metadata": {
        "colab": {
          "base_uri": "https://localhost:8080/",
          "height": 424
        },
        "id": "kkPgpklB-fjw",
        "outputId": "1becf5d6-451f-460b-f039-610816396cb7"
      },
      "source": [
        "berita"
      ],
      "execution_count": 6,
      "outputs": [
        {
          "output_type": "execute_result",
          "data": {
            "text/html": [
              "<div>\n",
              "<style scoped>\n",
              "    .dataframe tbody tr th:only-of-type {\n",
              "        vertical-align: middle;\n",
              "    }\n",
              "\n",
              "    .dataframe tbody tr th {\n",
              "        vertical-align: top;\n",
              "    }\n",
              "\n",
              "    .dataframe thead th {\n",
              "        text-align: right;\n",
              "    }\n",
              "</style>\n",
              "<table border=\"1\" class=\"dataframe\">\n",
              "  <thead>\n",
              "    <tr style=\"text-align: right;\">\n",
              "      <th></th>\n",
              "      <th>judul</th>\n",
              "      <th>Bisnis</th>\n",
              "      <th>Health</th>\n",
              "      <th>Tekno</th>\n",
              "    </tr>\n",
              "  </thead>\n",
              "  <tbody>\n",
              "    <tr>\n",
              "      <th>0</th>\n",
              "      <td>Kini Produk Buatan Tangan UMKM Lebih Dicari da...</td>\n",
              "      <td>1</td>\n",
              "      <td>0</td>\n",
              "      <td>0</td>\n",
              "    </tr>\n",
              "    <tr>\n",
              "      <th>1</th>\n",
              "      <td>Dongkrak Produktivitas Petani,  Pupuk Indonesi...</td>\n",
              "      <td>1</td>\n",
              "      <td>0</td>\n",
              "      <td>0</td>\n",
              "    </tr>\n",
              "    <tr>\n",
              "      <th>2</th>\n",
              "      <td>Meikarta Mulai Topping Off Area Distrik 2</td>\n",
              "      <td>1</td>\n",
              "      <td>0</td>\n",
              "      <td>0</td>\n",
              "    </tr>\n",
              "    <tr>\n",
              "      <th>3</th>\n",
              "      <td>Sederet Inovasi Penyaluran BBM Pertamina di Us...</td>\n",
              "      <td>1</td>\n",
              "      <td>0</td>\n",
              "      <td>0</td>\n",
              "    </tr>\n",
              "    <tr>\n",
              "      <th>4</th>\n",
              "      <td>Daftar Terbaru 50 Orang Terkaya di Indonesia, ...</td>\n",
              "      <td>1</td>\n",
              "      <td>0</td>\n",
              "      <td>0</td>\n",
              "    </tr>\n",
              "    <tr>\n",
              "      <th>...</th>\n",
              "      <td>...</td>\n",
              "      <td>...</td>\n",
              "      <td>...</td>\n",
              "      <td>...</td>\n",
              "    </tr>\n",
              "    <tr>\n",
              "      <th>2137</th>\n",
              "      <td>Lebih Produktif Saat Bekerja di Rumah dengan M...</td>\n",
              "      <td>0</td>\n",
              "      <td>0</td>\n",
              "      <td>1</td>\n",
              "    </tr>\n",
              "    <tr>\n",
              "      <th>2138</th>\n",
              "      <td>5 Trik Rahasia WhatsApp Ini Patut Kamu Coba</td>\n",
              "      <td>0</td>\n",
              "      <td>0</td>\n",
              "      <td>1</td>\n",
              "    </tr>\n",
              "    <tr>\n",
              "      <th>2139</th>\n",
              "      <td>Ekonom UI: Kolaborasi Gojek dan Bank Jago Baka...</td>\n",
              "      <td>0</td>\n",
              "      <td>0</td>\n",
              "      <td>1</td>\n",
              "    </tr>\n",
              "    <tr>\n",
              "      <th>2140</th>\n",
              "      <td>Rahasia Main Game Free Fire Biar Selalu Booyah</td>\n",
              "      <td>0</td>\n",
              "      <td>0</td>\n",
              "      <td>1</td>\n",
              "    </tr>\n",
              "    <tr>\n",
              "      <th>2141</th>\n",
              "      <td>Cara Samsung Galaxy Note20 Ultra Dukung Aktor ...</td>\n",
              "      <td>0</td>\n",
              "      <td>0</td>\n",
              "      <td>1</td>\n",
              "    </tr>\n",
              "  </tbody>\n",
              "</table>\n",
              "<p>2142 rows × 4 columns</p>\n",
              "</div>"
            ],
            "text/plain": [
              "                                                  judul  Bisnis  Health  Tekno\n",
              "0     Kini Produk Buatan Tangan UMKM Lebih Dicari da...       1       0      0\n",
              "1     Dongkrak Produktivitas Petani,  Pupuk Indonesi...       1       0      0\n",
              "2             Meikarta Mulai Topping Off Area Distrik 2       1       0      0\n",
              "3     Sederet Inovasi Penyaluran BBM Pertamina di Us...       1       0      0\n",
              "4     Daftar Terbaru 50 Orang Terkaya di Indonesia, ...       1       0      0\n",
              "...                                                 ...     ...     ...    ...\n",
              "2137  Lebih Produktif Saat Bekerja di Rumah dengan M...       0       0      1\n",
              "2138        5 Trik Rahasia WhatsApp Ini Patut Kamu Coba       0       0      1\n",
              "2139  Ekonom UI: Kolaborasi Gojek dan Bank Jago Baka...       0       0      1\n",
              "2140     Rahasia Main Game Free Fire Biar Selalu Booyah       0       0      1\n",
              "2141  Cara Samsung Galaxy Note20 Ultra Dukung Aktor ...       0       0      1\n",
              "\n",
              "[2142 rows x 4 columns]"
            ]
          },
          "metadata": {
            "tags": []
          },
          "execution_count": 6
        }
      ]
    },
    {
      "cell_type": "markdown",
      "metadata": {
        "id": "1gbLPjvbuy8T"
      },
      "source": [
        "# Bagian Baru"
      ]
    },
    {
      "cell_type": "code",
      "metadata": {
        "id": "__Pav1TJ_i8q"
      },
      "source": [
        "judul = berita['judul']\r\n",
        "label = berita[['Bisnis', 'Health', 'Tekno']].values"
      ],
      "execution_count": 7,
      "outputs": []
    },
    {
      "cell_type": "code",
      "metadata": {
        "id": "8SWHpudAACTQ"
      },
      "source": [
        "from sklearn.model_selection import train_test_split\r\n",
        "judul_latih, judul_test, label_latih, label_test = train_test_split(judul, label, test_size=0.2, random_state=42)"
      ],
      "execution_count": 8,
      "outputs": []
    },
    {
      "cell_type": "code",
      "metadata": {
        "id": "xM1IlssBAlBr"
      },
      "source": [
        "from tensorflow.keras.preprocessing.text import Tokenizer\r\n",
        "from tensorflow.keras.preprocessing.sequence import pad_sequences"
      ],
      "execution_count": 9,
      "outputs": []
    },
    {
      "cell_type": "code",
      "metadata": {
        "id": "ymc_7I07Ay5C"
      },
      "source": [
        "pad_type = 'pre'\r\n",
        "trunc_type = 'pre'\r\n",
        "\r\n",
        "# Tokenize our training data\r\n",
        "tokenizer = Tokenizer(num_words=2000, oov_token='x')\r\n",
        "tokenizer.fit_on_texts(judul_latih) \r\n",
        "tokenizer.fit_on_texts(judul_test)\r\n",
        "\r\n",
        "# Encode training data sentences into sequences\r\n",
        "sekuens_latih = tokenizer.texts_to_sequences(judul_latih)\r\n",
        "sekuens_test = tokenizer.texts_to_sequences(judul_test)\r\n",
        "\r\n",
        "# Get max training sequence length\r\n",
        "maxlen = max([len(x) for x in sekuens_latih])\r\n",
        "\r\n",
        "# Pad the training sequences\r\n",
        "padded_latih = pad_sequences(sekuens_latih, padding=pad_type, truncating=trunc_type, maxlen=maxlen) \r\n",
        "padded_test = pad_sequences(sekuens_test, padding=pad_type, truncating=trunc_type, maxlen=maxlen)"
      ],
      "execution_count": 10,
      "outputs": []
    },
    {
      "cell_type": "code",
      "metadata": {
        "colab": {
          "base_uri": "https://localhost:8080/"
        },
        "id": "rwamAWypm-xl",
        "outputId": "1fd86512-5c3c-4986-95e4-45cde9817079"
      },
      "source": [
        "padded_latih[0]"
      ],
      "execution_count": 11,
      "outputs": [
        {
          "output_type": "execute_result",
          "data": {
            "text/plain": [
              "array([   0,    0,    0,    3,    2,    4,    6, 1322,   81, 1138,   15,\n",
              "         13,  188,  133,  275,   46, 1322], dtype=int32)"
            ]
          },
          "metadata": {
            "tags": []
          },
          "execution_count": 11
        }
      ]
    },
    {
      "cell_type": "code",
      "metadata": {
        "colab": {
          "base_uri": "https://localhost:8080/"
        },
        "id": "Om3Jr4TnnCCP",
        "outputId": "addee352-4a10-4c29-b5be-55e905a197cc"
      },
      "source": [
        "padded_test[0]"
      ],
      "execution_count": 12,
      "outputs": [
        {
          "output_type": "execute_result",
          "data": {
            "text/plain": [
              "array([   0,    0,    0,    0,    0,    0,    0,  479,  205,   14,    3,\n",
              "          2,   29, 1322,   19,   49,    6], dtype=int32)"
            ]
          },
          "metadata": {
            "tags": []
          },
          "execution_count": 12
        }
      ]
    },
    {
      "cell_type": "code",
      "metadata": {
        "id": "2UXOGm5sCPZT"
      },
      "source": [
        "import tensorflow as tf\r\n",
        "model = tf.keras.Sequential([\r\n",
        "  tf.keras.layers.Embedding(input_dim=2000, output_dim=8),\r\n",
        "  tf.keras.layers.Dropout(0.5),\r\n",
        "  tf.keras.layers.LSTM(32),\r\n",
        "  tf.keras.layers.Dropout(0.5),\r\n",
        "  tf.keras.layers.Dense(32, activation='relu'),\r\n",
        "  tf.keras.layers.Dropout(0.5),\r\n",
        "  tf.keras.layers.Dense(3, activation='softmax')\r\n",
        "  ])\r\n",
        "model.compile(loss='categorical_crossentropy',optimizer='adam',metrics=['accuracy'])"
      ],
      "execution_count": 13,
      "outputs": []
    },
    {
      "cell_type": "code",
      "metadata": {
        "id": "sd1MWPalJPjT"
      },
      "source": [
        "class myCallback(tf.keras.callbacks.Callback):\r\n",
        "  def on_epoch_end(self, epoch, logs={}):\r\n",
        "    if(logs.get('val_accuracy')>0.9):\r\n",
        "      print(\"\\nAkurasi telah mencapai >90%!\")\r\n",
        "      self.model.stop_training = True\r\n",
        "callbacks = myCallback()"
      ],
      "execution_count": 14,
      "outputs": []
    },
    {
      "cell_type": "code",
      "metadata": {
        "colab": {
          "base_uri": "https://localhost:8080/"
        },
        "id": "BPHtpckaDET9",
        "outputId": "6ca9494c-c778-4dff-d1a6-eb23fc2cc62f"
      },
      "source": [
        "num_epochs = 40\r\n",
        "hist = model.fit(padded_latih, label_latih, epochs=num_epochs,\r\n",
        "                    validation_data=(padded_test, label_test),\r\n",
        "                    verbose=2, callbacks=[callbacks])"
      ],
      "execution_count": 15,
      "outputs": [
        {
          "output_type": "stream",
          "text": [
            "Epoch 1/40\n",
            "54/54 - 3s - loss: 1.0870 - accuracy: 0.3824 - val_loss: 1.0825 - val_accuracy: 0.3846\n",
            "Epoch 2/40\n",
            "54/54 - 0s - loss: 1.0784 - accuracy: 0.3975 - val_loss: 1.0637 - val_accuracy: 0.5921\n",
            "Epoch 3/40\n",
            "54/54 - 0s - loss: 0.9415 - accuracy: 0.5721 - val_loss: 0.8316 - val_accuracy: 0.5897\n",
            "Epoch 4/40\n",
            "54/54 - 0s - loss: 0.7063 - accuracy: 0.6737 - val_loss: 0.6486 - val_accuracy: 0.6807\n",
            "Epoch 5/40\n",
            "54/54 - 0s - loss: 0.5286 - accuracy: 0.8004 - val_loss: 0.4868 - val_accuracy: 0.8462\n",
            "Epoch 6/40\n",
            "54/54 - 0s - loss: 0.3615 - accuracy: 0.8803 - val_loss: 0.4324 - val_accuracy: 0.8718\n",
            "Epoch 7/40\n",
            "54/54 - 0s - loss: 0.2949 - accuracy: 0.9083 - val_loss: 0.3988 - val_accuracy: 0.8438\n",
            "Epoch 8/40\n",
            "54/54 - 0s - loss: 0.2402 - accuracy: 0.9235 - val_loss: 0.3744 - val_accuracy: 0.8858\n",
            "Epoch 9/40\n",
            "54/54 - 1s - loss: 0.1779 - accuracy: 0.9451 - val_loss: 0.4081 - val_accuracy: 0.8951\n",
            "Epoch 10/40\n",
            "54/54 - 0s - loss: 0.1644 - accuracy: 0.9515 - val_loss: 0.3960 - val_accuracy: 0.8904\n",
            "Epoch 11/40\n",
            "54/54 - 0s - loss: 0.1450 - accuracy: 0.9632 - val_loss: 0.4024 - val_accuracy: 0.8974\n",
            "Epoch 12/40\n",
            "54/54 - 0s - loss: 0.1423 - accuracy: 0.9632 - val_loss: 0.4221 - val_accuracy: 0.8904\n",
            "Epoch 13/40\n",
            "54/54 - 0s - loss: 0.1042 - accuracy: 0.9685 - val_loss: 0.4177 - val_accuracy: 0.9091\n",
            "\n",
            "Akurasi telah mencapai >90%!\n"
          ],
          "name": "stdout"
        }
      ]
    },
    {
      "cell_type": "code",
      "metadata": {
        "id": "J7MvMAy6DLXm"
      },
      "source": [
        "import matplotlib.pyplot as plt"
      ],
      "execution_count": 16,
      "outputs": []
    },
    {
      "cell_type": "code",
      "metadata": {
        "colab": {
          "base_uri": "https://localhost:8080/",
          "height": 295
        },
        "id": "dHF5kEQ1K4pP",
        "outputId": "4300480a-d273-4920-b0ce-be7beadb0cf6"
      },
      "source": [
        "# summarize history for accuracy\r\n",
        "plt.plot(hist.history['accuracy'])\r\n",
        "plt.plot(hist.history['val_accuracy'])\r\n",
        "plt.title('model accuracy')\r\n",
        "plt.ylabel('accuracy')\r\n",
        "plt.xlabel('epoch')\r\n",
        "plt.legend(['train', 'test'], loc='upper left')\r\n",
        "plt.show()"
      ],
      "execution_count": 17,
      "outputs": [
        {
          "output_type": "display_data",
          "data": {
            "image/png": "[encoded data removed]",
            "text/plain": [
              "<Figure size 432x288 with 1 Axes>"
            ]
          },
          "metadata": {
            "tags": [],
            "needs_background": "light"
          }
        }
      ]
    },
    {
      "cell_type": "code",
      "metadata": {
        "colab": {
          "base_uri": "https://localhost:8080/",
          "height": 295
        },
        "id": "oJfShQsmK9Wb",
        "outputId": "ce70186a-a1d0-418b-ab6d-0a18c87db668"
      },
      "source": [
        "# summarize history for loss\r\n",
        "plt.plot(hist.history['loss'])\r\n",
        "plt.plot(hist.history['val_loss'])\r\n",
        "plt.title('model loss')\r\n",
        "plt.ylabel('loss')\r\n",
        "plt.xlabel('epoch')\r\n",
        "plt.legend(['train', 'test'], loc='upper right')\r\n",
        "plt.show()"
      ],
      "execution_count": 18,
      "outputs": [
        {
          "output_type": "display_data",
          "data": {
            "image/png": "[encoded data removed]",
            "text/plain": [
              "<Figure size 432x288 with 1 Axes>"
            ]
          },
          "metadata": {
            "tags": [],
            "needs_background": "light"
          }
        }
      ]
    },
    {
      "cell_type": "code",
      "metadata": {
        "id": "IDvzYTKnpglJ"
      },
      "source": [
        "#function to make predictions\r\n",
        "def make_predictions(model, tokenizer, ml):\r\n",
        "  classes = ['Bisnis', 'Health', 'Tekno']\r\n",
        "  while True:\r\n",
        "    text = input('Masukkan judul berita: ')\r\n",
        "    text = [text]\r\n",
        "    t = tokenizer.texts_to_sequences(text)\r\n",
        "    t = pad_sequences(t, padding='pre', truncating='pre', maxlen=ml)\r\n",
        "    pred_t = model.predict(t)\r\n",
        "    print('Prediksi: ', classes[pred_t.argmax()])\r\n",
        "    lagi = input('Apakah ingin mencoba lagi? (y/n) :')\r\n",
        "    if lagi=='n' or lagi=='N':\r\n",
        "      break"
      ],
      "execution_count": 21,
      "outputs": []
    },
    {
      "cell_type": "code",
      "metadata": {
        "colab": {
          "base_uri": "https://localhost:8080/"
        },
        "id": "viDcdhfVq4Nf",
        "outputId": "c59ddcf6-4ba5-4654-863e-89b83c4b9c96"
      },
      "source": [
        "make_predictions(model, tokenizer, maxlen)"
      ],
      "execution_count": 27,
      "outputs": [
        {
          "output_type": "stream",
          "text": [
            "Masukkan judul berita: Interaksi Keluarga Terhalang Pintu Kaca, Nirina Zubir Masih Harus Isolasi  Mandiri Akibat Covid-19\n",
            "Prediksi:  Health\n",
            "Apakah ingin mencoba lagi? (y/n) :y\n",
            "Masukkan judul berita: 121 Tenaga Kesehatan di RSUD Tarakan Positif Corona\n",
            "Prediksi:  Health\n",
            "Apakah ingin mencoba lagi? (y/n) :y\n",
            "Masukkan judul berita: iPhone 12 Lulus Sertifikasi TKDN, Pakai Jaringan 4G\n",
            "Prediksi:  Tekno\n",
            "Apakah ingin mencoba lagi? (y/n) :y\n",
            "Masukkan judul berita: Manfaat Penggunaan Teknologi untuk Pendidikan\n",
            "Prediksi:  Tekno\n",
            "Apakah ingin mencoba lagi? (y/n) :y\n",
            "Masukkan judul berita: Risiko meningkat, investasi obligasi korporasi masih menarik\n",
            "Prediksi:  Bisnis\n",
            "Apakah ingin mencoba lagi? (y/n) :y\n",
            "Masukkan judul berita: Prospek investasi obligasi tahun 2021 masih menarik\n",
            "Prediksi:  Bisnis\n",
            "Apakah ingin mencoba lagi? (y/n) :y\n",
            "Masukkan judul berita: Tahun 2021 Sudah Menanti, Ini Pilihan Investasi yang bisa diambil\n",
            "Prediksi:  Bisnis\n",
            "Apakah ingin mencoba lagi? (y/n) :n\n"
          ],
          "name": "stdout"
        }
      ]
    },
    {
      "cell_type": "code",
      "metadata": {
        "id": "KOBNU4XRrHh2"
      },
      "source": [
        ""
      ],
      "execution_count": null,
      "outputs": []
    }
  ]
}