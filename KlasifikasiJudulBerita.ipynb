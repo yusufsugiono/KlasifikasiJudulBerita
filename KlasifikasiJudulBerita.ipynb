{
  "nbformat": 4,
  "nbformat_minor": 0,
  "metadata": {
    "colab": {
      "name": "KlasifikasiJudulBerita.ipynb",
      "provenance": [],
      "collapsed_sections": [],
      "include_colab_link": true
    },
    "kernelspec": {
      "name": "python3",
      "display_name": "Python 3"
    }
  },
  "cells": [
    {
      "cell_type": "markdown",
      "metadata": {
        "id": "view-in-github",
        "colab_type": "text"
      },
      "source": [
        "<a href=\"https://colab.research.google.com/github/yusufsugiono/KlasifikasiJudulBerita/blob/main/KlasifikasiJudulBerita.ipynb\" target=\"_parent\"><img src=\"https://colab.research.google.com/assets/colab-badge.svg\" alt=\"Open In Colab\"/></a>"
      ]
    },
    {
      "cell_type": "code",
      "metadata": {
        "id": "dcXSTeTa9qzM"
      },
      "source": [
        "import pandas as pd\n",
        "import numpy as np"
      ],
      "execution_count": 1,
      "outputs": []
    },
    {
      "cell_type": "code",
      "source": [
        "# Download Data\n",
        "!wget https://raw.githubusercontent.com/yusufsugiono/KlasifikasiJudulBerita/main/berita.json"
      ],
      "metadata": {
        "id": "U1xij1w7b2wK",
        "outputId": "a9aec76f-fe3a-4c43-8bc0-d438e5852be0",
        "colab": {
          "base_uri": "https://localhost:8080/"
        }
      },
      "execution_count": 2,
      "outputs": [
        {
          "output_type": "stream",
          "name": "stdout",
          "text": [
            "--2022-01-10 14:42:36--  https://raw.githubusercontent.com/yusufsugiono/KlasifikasiJudulBerita/main/berita.json\n",
            "Resolving raw.githubusercontent.com (raw.githubusercontent.com)... 185.199.110.133, 185.199.111.133, 185.199.109.133, ...\n",
            "Connecting to raw.githubusercontent.com (raw.githubusercontent.com)|185.199.110.133|:443... connected.\n",
            "HTTP request sent, awaiting response... 200 OK\n",
            "Length: 224474 (219K) [text/plain]\n",
            "Saving to: ‘berita.json’\n",
            "\n",
            "berita.json         100%[===================>] 219.21K  --.-KB/s    in 0.02s   \n",
            "\n",
            "2022-01-10 14:42:37 (14.0 MB/s) - ‘berita.json’ saved [224474/224474]\n",
            "\n"
          ]
        }
      ]
    },
    {
      "cell_type": "code",
      "metadata": {
        "id": "OmFWIr259xq2"
      },
      "source": [
        "berita = pd.read_json('berita.json')"
      ],
      "execution_count": 3,
      "outputs": []
    },
    {
      "cell_type": "code",
      "metadata": {
        "colab": {
          "base_uri": "https://localhost:8080/",
          "height": 206
        },
        "id": "y5BEGjwm-FUp",
        "outputId": "8d1752cb-5407-4c0e-efac-a565505360c2"
      },
      "source": [
        "berita.head()"
      ],
      "execution_count": 4,
      "outputs": [
        {
          "output_type": "execute_result",
          "data": {
            "text/html": [
              "\n",
              "  <div id=\"df-dfb0eaa2-b546-4e0c-837d-197cc14ec094\">\n",
              "    <div class=\"colab-df-container\">\n",
              "      <div>\n",
              "<style scoped>\n",
              "    .dataframe tbody tr th:only-of-type {\n",
              "        vertical-align: middle;\n",
              "    }\n",
              "\n",
              "    .dataframe tbody tr th {\n",
              "        vertical-align: top;\n",
              "    }\n",
              "\n",
              "    .dataframe thead th {\n",
              "        text-align: right;\n",
              "    }\n",
              "</style>\n",
              "<table border=\"1\" class=\"dataframe\">\n",
              "  <thead>\n",
              "    <tr style=\"text-align: right;\">\n",
              "      <th></th>\n",
              "      <th>judul</th>\n",
              "      <th>kategori</th>\n",
              "    </tr>\n",
              "  </thead>\n",
              "  <tbody>\n",
              "    <tr>\n",
              "      <th>0</th>\n",
              "      <td>Kini Produk Buatan Tangan UMKM Lebih Dicari da...</td>\n",
              "      <td>Bisnis</td>\n",
              "    </tr>\n",
              "    <tr>\n",
              "      <th>1</th>\n",
              "      <td>Dongkrak Produktivitas Petani,  Pupuk Indonesi...</td>\n",
              "      <td>Bisnis</td>\n",
              "    </tr>\n",
              "    <tr>\n",
              "      <th>2</th>\n",
              "      <td>Meikarta Mulai Topping Off Area Distrik 2</td>\n",
              "      <td>Bisnis</td>\n",
              "    </tr>\n",
              "    <tr>\n",
              "      <th>3</th>\n",
              "      <td>Sederet Inovasi Penyaluran BBM Pertamina di Us...</td>\n",
              "      <td>Bisnis</td>\n",
              "    </tr>\n",
              "    <tr>\n",
              "      <th>4</th>\n",
              "      <td>Daftar Terbaru 50 Orang Terkaya di Indonesia, ...</td>\n",
              "      <td>Bisnis</td>\n",
              "    </tr>\n",
              "  </tbody>\n",
              "</table>\n",
              "</div>\n",
              "      <button class=\"colab-df-convert\" onclick=\"convertToInteractive('df-dfb0eaa2-b546-4e0c-837d-197cc14ec094')\"\n",
              "              title=\"Convert this dataframe to an interactive table.\"\n",
              "              style=\"display:none;\">\n",
              "        \n",
              "  <svg xmlns=\"http://www.w3.org/2000/svg\" height=\"24px\"viewBox=\"0 0 24 24\"\n",
              "       width=\"24px\">\n",
              "    <path d=\"M0 0h24v24H0V0z\" fill=\"none\"/>\n",
              "    <path d=\"M18.56 5.44l.94 2.06.94-2.06 2.06-.94-2.06-.94-.94-2.06-.94 2.06-2.06.94zm-11 1L8.5 8.5l.94-2.06 2.06-.94-2.06-.94L8.5 2.5l-.94 2.06-2.06.94zm10 10l.94 2.06.94-2.06 2.06-.94-2.06-.94-.94-2.06-.94 2.06-2.06.94z\"/><path d=\"M17.41 7.96l-1.37-1.37c-.4-.4-.92-.59-1.43-.59-.52 0-1.04.2-1.43.59L10.3 9.45l-7.72 7.72c-.78.78-.78 2.05 0 2.83L4 21.41c.39.39.9.59 1.41.59.51 0 1.02-.2 1.41-.59l7.78-7.78 2.81-2.81c.8-.78.8-2.07 0-2.86zM5.41 20L4 18.59l7.72-7.72 1.47 1.35L5.41 20z\"/>\n",
              "  </svg>\n",
              "      </button>\n",
              "      \n",
              "  <style>\n",
              "    .colab-df-container {\n",
              "      display:flex;\n",
              "      flex-wrap:wrap;\n",
              "      gap: 12px;\n",
              "    }\n",
              "\n",
              "    .colab-df-convert {\n",
              "      background-color: #E8F0FE;\n",
              "      border: none;\n",
              "      border-radius: 50%;\n",
              "      cursor: pointer;\n",
              "      display: none;\n",
              "      fill: #1967D2;\n",
              "      height: 32px;\n",
              "      padding: 0 0 0 0;\n",
              "      width: 32px;\n",
              "    }\n",
              "\n",
              "    .colab-df-convert:hover {\n",
              "      background-color: #E2EBFA;\n",
              "      box-shadow: 0px 1px 2px rgba(60, 64, 67, 0.3), 0px 1px 3px 1px rgba(60, 64, 67, 0.15);\n",
              "      fill: #174EA6;\n",
              "    }\n",
              "\n",
              "    [theme=dark] .colab-df-convert {\n",
              "      background-color: #3B4455;\n",
              "      fill: #D2E3FC;\n",
              "    }\n",
              "\n",
              "    [theme=dark] .colab-df-convert:hover {\n",
              "      background-color: #434B5C;\n",
              "      box-shadow: 0px 1px 3px 1px rgba(0, 0, 0, 0.15);\n",
              "      filter: drop-shadow(0px 1px 2px rgba(0, 0, 0, 0.3));\n",
              "      fill: #FFFFFF;\n",
              "    }\n",
              "  </style>\n",
              "\n",
              "      <script>\n",
              "        const buttonEl =\n",
              "          document.querySelector('#df-dfb0eaa2-b546-4e0c-837d-197cc14ec094 button.colab-df-convert');\n",
              "        buttonEl.style.display =\n",
              "          google.colab.kernel.accessAllowed ? 'block' : 'none';\n",
              "\n",
              "        async function convertToInteractive(key) {\n",
              "          const element = document.querySelector('#df-dfb0eaa2-b546-4e0c-837d-197cc14ec094');\n",
              "          const dataTable =\n",
              "            await google.colab.kernel.invokeFunction('convertToInteractive',\n",
              "                                                     [key], {});\n",
              "          if (!dataTable) return;\n",
              "\n",
              "          const docLinkHtml = 'Like what you see? Visit the ' +\n",
              "            '<a target=\"_blank\" href=https://colab.research.google.com/notebooks/data_table.ipynb>data table notebook</a>'\n",
              "            + ' to learn more about interactive tables.';\n",
              "          element.innerHTML = '';\n",
              "          dataTable['output_type'] = 'display_data';\n",
              "          await google.colab.output.renderOutput(dataTable, element);\n",
              "          const docLink = document.createElement('div');\n",
              "          docLink.innerHTML = docLinkHtml;\n",
              "          element.appendChild(docLink);\n",
              "        }\n",
              "      </script>\n",
              "    </div>\n",
              "  </div>\n",
              "  "
            ],
            "text/plain": [
              "                                               judul kategori\n",
              "0  Kini Produk Buatan Tangan UMKM Lebih Dicari da...   Bisnis\n",
              "1  Dongkrak Produktivitas Petani,  Pupuk Indonesi...   Bisnis\n",
              "2          Meikarta Mulai Topping Off Area Distrik 2   Bisnis\n",
              "3  Sederet Inovasi Penyaluran BBM Pertamina di Us...   Bisnis\n",
              "4  Daftar Terbaru 50 Orang Terkaya di Indonesia, ...   Bisnis"
            ]
          },
          "metadata": {},
          "execution_count": 4
        }
      ]
    },
    {
      "cell_type": "code",
      "metadata": {
        "id": "iFh_UDV2-HY8"
      },
      "source": [
        "kategori = pd.get_dummies(berita.kategori)"
      ],
      "execution_count": 5,
      "outputs": []
    },
    {
      "cell_type": "code",
      "metadata": {
        "id": "ELEM-gtn-Vma"
      },
      "source": [
        "berita = pd.concat([berita, kategori], axis=1)\n",
        "berita = berita.drop(columns='kategori')"
      ],
      "execution_count": 6,
      "outputs": []
    },
    {
      "cell_type": "code",
      "metadata": {
        "colab": {
          "base_uri": "https://localhost:8080/",
          "height": 424
        },
        "id": "kkPgpklB-fjw",
        "outputId": "cc4e1ecf-0915-4cfc-d186-0b412255aa06"
      },
      "source": [
        "berita"
      ],
      "execution_count": 7,
      "outputs": [
        {
          "output_type": "execute_result",
          "data": {
            "text/html": [
              "\n",
              "  <div id=\"df-2fb60a68-43b1-45fb-948b-6a5d59601239\">\n",
              "    <div class=\"colab-df-container\">\n",
              "      <div>\n",
              "<style scoped>\n",
              "    .dataframe tbody tr th:only-of-type {\n",
              "        vertical-align: middle;\n",
              "    }\n",
              "\n",
              "    .dataframe tbody tr th {\n",
              "        vertical-align: top;\n",
              "    }\n",
              "\n",
              "    .dataframe thead th {\n",
              "        text-align: right;\n",
              "    }\n",
              "</style>\n",
              "<table border=\"1\" class=\"dataframe\">\n",
              "  <thead>\n",
              "    <tr style=\"text-align: right;\">\n",
              "      <th></th>\n",
              "      <th>judul</th>\n",
              "      <th>Bisnis</th>\n",
              "      <th>Health</th>\n",
              "      <th>Tekno</th>\n",
              "    </tr>\n",
              "  </thead>\n",
              "  <tbody>\n",
              "    <tr>\n",
              "      <th>0</th>\n",
              "      <td>Kini Produk Buatan Tangan UMKM Lebih Dicari da...</td>\n",
              "      <td>1</td>\n",
              "      <td>0</td>\n",
              "      <td>0</td>\n",
              "    </tr>\n",
              "    <tr>\n",
              "      <th>1</th>\n",
              "      <td>Dongkrak Produktivitas Petani,  Pupuk Indonesi...</td>\n",
              "      <td>1</td>\n",
              "      <td>0</td>\n",
              "      <td>0</td>\n",
              "    </tr>\n",
              "    <tr>\n",
              "      <th>2</th>\n",
              "      <td>Meikarta Mulai Topping Off Area Distrik 2</td>\n",
              "      <td>1</td>\n",
              "      <td>0</td>\n",
              "      <td>0</td>\n",
              "    </tr>\n",
              "    <tr>\n",
              "      <th>3</th>\n",
              "      <td>Sederet Inovasi Penyaluran BBM Pertamina di Us...</td>\n",
              "      <td>1</td>\n",
              "      <td>0</td>\n",
              "      <td>0</td>\n",
              "    </tr>\n",
              "    <tr>\n",
              "      <th>4</th>\n",
              "      <td>Daftar Terbaru 50 Orang Terkaya di Indonesia, ...</td>\n",
              "      <td>1</td>\n",
              "      <td>0</td>\n",
              "      <td>0</td>\n",
              "    </tr>\n",
              "    <tr>\n",
              "      <th>...</th>\n",
              "      <td>...</td>\n",
              "      <td>...</td>\n",
              "      <td>...</td>\n",
              "      <td>...</td>\n",
              "    </tr>\n",
              "    <tr>\n",
              "      <th>2137</th>\n",
              "      <td>Lebih Produktif Saat Bekerja di Rumah dengan M...</td>\n",
              "      <td>0</td>\n",
              "      <td>0</td>\n",
              "      <td>1</td>\n",
              "    </tr>\n",
              "    <tr>\n",
              "      <th>2138</th>\n",
              "      <td>5 Trik Rahasia WhatsApp Ini Patut Kamu Coba</td>\n",
              "      <td>0</td>\n",
              "      <td>0</td>\n",
              "      <td>1</td>\n",
              "    </tr>\n",
              "    <tr>\n",
              "      <th>2139</th>\n",
              "      <td>Ekonom UI: Kolaborasi Gojek dan Bank Jago Baka...</td>\n",
              "      <td>0</td>\n",
              "      <td>0</td>\n",
              "      <td>1</td>\n",
              "    </tr>\n",
              "    <tr>\n",
              "      <th>2140</th>\n",
              "      <td>Rahasia Main Game Free Fire Biar Selalu Booyah</td>\n",
              "      <td>0</td>\n",
              "      <td>0</td>\n",
              "      <td>1</td>\n",
              "    </tr>\n",
              "    <tr>\n",
              "      <th>2141</th>\n",
              "      <td>Cara Samsung Galaxy Note20 Ultra Dukung Aktor ...</td>\n",
              "      <td>0</td>\n",
              "      <td>0</td>\n",
              "      <td>1</td>\n",
              "    </tr>\n",
              "  </tbody>\n",
              "</table>\n",
              "<p>2142 rows × 4 columns</p>\n",
              "</div>\n",
              "      <button class=\"colab-df-convert\" onclick=\"convertToInteractive('df-2fb60a68-43b1-45fb-948b-6a5d59601239')\"\n",
              "              title=\"Convert this dataframe to an interactive table.\"\n",
              "              style=\"display:none;\">\n",
              "        \n",
              "  <svg xmlns=\"http://www.w3.org/2000/svg\" height=\"24px\"viewBox=\"0 0 24 24\"\n",
              "       width=\"24px\">\n",
              "    <path d=\"M0 0h24v24H0V0z\" fill=\"none\"/>\n",
              "    <path d=\"M18.56 5.44l.94 2.06.94-2.06 2.06-.94-2.06-.94-.94-2.06-.94 2.06-2.06.94zm-11 1L8.5 8.5l.94-2.06 2.06-.94-2.06-.94L8.5 2.5l-.94 2.06-2.06.94zm10 10l.94 2.06.94-2.06 2.06-.94-2.06-.94-.94-2.06-.94 2.06-2.06.94z\"/><path d=\"M17.41 7.96l-1.37-1.37c-.4-.4-.92-.59-1.43-.59-.52 0-1.04.2-1.43.59L10.3 9.45l-7.72 7.72c-.78.78-.78 2.05 0 2.83L4 21.41c.39.39.9.59 1.41.59.51 0 1.02-.2 1.41-.59l7.78-7.78 2.81-2.81c.8-.78.8-2.07 0-2.86zM5.41 20L4 18.59l7.72-7.72 1.47 1.35L5.41 20z\"/>\n",
              "  </svg>\n",
              "      </button>\n",
              "      \n",
              "  <style>\n",
              "    .colab-df-container {\n",
              "      display:flex;\n",
              "      flex-wrap:wrap;\n",
              "      gap: 12px;\n",
              "    }\n",
              "\n",
              "    .colab-df-convert {\n",
              "      background-color: #E8F0FE;\n",
              "      border: none;\n",
              "      border-radius: 50%;\n",
              "      cursor: pointer;\n",
              "      display: none;\n",
              "      fill: #1967D2;\n",
              "      height: 32px;\n",
              "      padding: 0 0 0 0;\n",
              "      width: 32px;\n",
              "    }\n",
              "\n",
              "    .colab-df-convert:hover {\n",
              "      background-color: #E2EBFA;\n",
              "      box-shadow: 0px 1px 2px rgba(60, 64, 67, 0.3), 0px 1px 3px 1px rgba(60, 64, 67, 0.15);\n",
              "      fill: #174EA6;\n",
              "    }\n",
              "\n",
              "    [theme=dark] .colab-df-convert {\n",
              "      background-color: #3B4455;\n",
              "      fill: #D2E3FC;\n",
              "    }\n",
              "\n",
              "    [theme=dark] .colab-df-convert:hover {\n",
              "      background-color: #434B5C;\n",
              "      box-shadow: 0px 1px 3px 1px rgba(0, 0, 0, 0.15);\n",
              "      filter: drop-shadow(0px 1px 2px rgba(0, 0, 0, 0.3));\n",
              "      fill: #FFFFFF;\n",
              "    }\n",
              "  </style>\n",
              "\n",
              "      <script>\n",
              "        const buttonEl =\n",
              "          document.querySelector('#df-2fb60a68-43b1-45fb-948b-6a5d59601239 button.colab-df-convert');\n",
              "        buttonEl.style.display =\n",
              "          google.colab.kernel.accessAllowed ? 'block' : 'none';\n",
              "\n",
              "        async function convertToInteractive(key) {\n",
              "          const element = document.querySelector('#df-2fb60a68-43b1-45fb-948b-6a5d59601239');\n",
              "          const dataTable =\n",
              "            await google.colab.kernel.invokeFunction('convertToInteractive',\n",
              "                                                     [key], {});\n",
              "          if (!dataTable) return;\n",
              "\n",
              "          const docLinkHtml = 'Like what you see? Visit the ' +\n",
              "            '<a target=\"_blank\" href=https://colab.research.google.com/notebooks/data_table.ipynb>data table notebook</a>'\n",
              "            + ' to learn more about interactive tables.';\n",
              "          element.innerHTML = '';\n",
              "          dataTable['output_type'] = 'display_data';\n",
              "          await google.colab.output.renderOutput(dataTable, element);\n",
              "          const docLink = document.createElement('div');\n",
              "          docLink.innerHTML = docLinkHtml;\n",
              "          element.appendChild(docLink);\n",
              "        }\n",
              "      </script>\n",
              "    </div>\n",
              "  </div>\n",
              "  "
            ],
            "text/plain": [
              "                                                  judul  Bisnis  Health  Tekno\n",
              "0     Kini Produk Buatan Tangan UMKM Lebih Dicari da...       1       0      0\n",
              "1     Dongkrak Produktivitas Petani,  Pupuk Indonesi...       1       0      0\n",
              "2             Meikarta Mulai Topping Off Area Distrik 2       1       0      0\n",
              "3     Sederet Inovasi Penyaluran BBM Pertamina di Us...       1       0      0\n",
              "4     Daftar Terbaru 50 Orang Terkaya di Indonesia, ...       1       0      0\n",
              "...                                                 ...     ...     ...    ...\n",
              "2137  Lebih Produktif Saat Bekerja di Rumah dengan M...       0       0      1\n",
              "2138        5 Trik Rahasia WhatsApp Ini Patut Kamu Coba       0       0      1\n",
              "2139  Ekonom UI: Kolaborasi Gojek dan Bank Jago Baka...       0       0      1\n",
              "2140     Rahasia Main Game Free Fire Biar Selalu Booyah       0       0      1\n",
              "2141  Cara Samsung Galaxy Note20 Ultra Dukung Aktor ...       0       0      1\n",
              "\n",
              "[2142 rows x 4 columns]"
            ]
          },
          "metadata": {},
          "execution_count": 7
        }
      ]
    },
    {
      "cell_type": "markdown",
      "metadata": {
        "id": "1gbLPjvbuy8T"
      },
      "source": [
        "# Bagian Baru"
      ]
    },
    {
      "cell_type": "code",
      "metadata": {
        "id": "__Pav1TJ_i8q"
      },
      "source": [
        "judul = berita['judul']\n",
        "label = berita[['Bisnis', 'Health', 'Tekno']].values"
      ],
      "execution_count": 8,
      "outputs": []
    },
    {
      "cell_type": "code",
      "metadata": {
        "id": "8SWHpudAACTQ"
      },
      "source": [
        "from sklearn.model_selection import train_test_split\n",
        "judul_latih, judul_test, label_latih, label_test = train_test_split(judul, label, test_size=0.2, random_state=42)"
      ],
      "execution_count": 9,
      "outputs": []
    },
    {
      "cell_type": "code",
      "metadata": {
        "id": "xM1IlssBAlBr"
      },
      "source": [
        "from tensorflow.keras.preprocessing.text import Tokenizer\n",
        "from tensorflow.keras.preprocessing.sequence import pad_sequences"
      ],
      "execution_count": 10,
      "outputs": []
    },
    {
      "cell_type": "code",
      "metadata": {
        "id": "ymc_7I07Ay5C"
      },
      "source": [
        "pad_type = 'pre'\n",
        "trunc_type = 'pre'\n",
        "\n",
        "# Tokenize our training data\n",
        "tokenizer = Tokenizer(num_words=2000, oov_token='x')\n",
        "tokenizer.fit_on_texts(judul_latih) \n",
        "tokenizer.fit_on_texts(judul_test)\n",
        "\n",
        "# Encode training data sentences into sequences\n",
        "sekuens_latih = tokenizer.texts_to_sequences(judul_latih)\n",
        "sekuens_test = tokenizer.texts_to_sequences(judul_test)\n",
        "\n",
        "# Get max training sequence length\n",
        "maxlen = max([len(x) for x in sekuens_latih])\n",
        "\n",
        "# Pad the training sequences\n",
        "padded_latih = pad_sequences(sekuens_latih, padding=pad_type, truncating=trunc_type, maxlen=maxlen) \n",
        "padded_test = pad_sequences(sekuens_test, padding=pad_type, truncating=trunc_type, maxlen=maxlen)"
      ],
      "execution_count": 11,
      "outputs": []
    },
    {
      "cell_type": "code",
      "metadata": {
        "colab": {
          "base_uri": "https://localhost:8080/"
        },
        "id": "rwamAWypm-xl",
        "outputId": "c2d3239b-1af8-4ac6-ec43-363128109379"
      },
      "source": [
        "padded_latih[0]"
      ],
      "execution_count": 12,
      "outputs": [
        {
          "output_type": "execute_result",
          "data": {
            "text/plain": [
              "array([   0,    0,    0,    3,    2,    4,    6, 1322,   81, 1138,   15,\n",
              "         13,  188,  133,  275,   46, 1322], dtype=int32)"
            ]
          },
          "metadata": {},
          "execution_count": 12
        }
      ]
    },
    {
      "cell_type": "code",
      "metadata": {
        "colab": {
          "base_uri": "https://localhost:8080/"
        },
        "id": "Om3Jr4TnnCCP",
        "outputId": "975f2d43-d282-4106-acb4-a40fb70445f2"
      },
      "source": [
        "padded_test[0]"
      ],
      "execution_count": 13,
      "outputs": [
        {
          "output_type": "execute_result",
          "data": {
            "text/plain": [
              "array([   0,    0,    0,    0,    0,    0,    0,  479,  205,   14,    3,\n",
              "          2,   29, 1322,   19,   49,    6], dtype=int32)"
            ]
          },
          "metadata": {},
          "execution_count": 13
        }
      ]
    },
    {
      "cell_type": "code",
      "metadata": {
        "id": "2UXOGm5sCPZT"
      },
      "source": [
        "import tensorflow as tf\n",
        "model = tf.keras.Sequential([\n",
        "  tf.keras.layers.Embedding(input_dim=2000, output_dim=8),\n",
        "  tf.keras.layers.Dropout(0.5),\n",
        "  tf.keras.layers.LSTM(32),\n",
        "  tf.keras.layers.Dropout(0.5),\n",
        "  tf.keras.layers.Dense(32, activation='relu'),\n",
        "  tf.keras.layers.Dropout(0.5),\n",
        "  tf.keras.layers.Dense(3, activation='softmax')\n",
        "  ])\n",
        "model.compile(loss='categorical_crossentropy',optimizer='adam',metrics=['accuracy'])"
      ],
      "execution_count": 14,
      "outputs": []
    },
    {
      "cell_type": "code",
      "metadata": {
        "id": "sd1MWPalJPjT"
      },
      "source": [
        "class myCallback(tf.keras.callbacks.Callback):\n",
        "  def on_epoch_end(self, epoch, logs={}):\n",
        "    if(logs.get('val_accuracy')>0.9):\n",
        "      print(\"\\nAkurasi telah mencapai >90%!\")\n",
        "      self.model.stop_training = True\n",
        "callbacks = myCallback()"
      ],
      "execution_count": 15,
      "outputs": []
    },
    {
      "cell_type": "code",
      "metadata": {
        "colab": {
          "base_uri": "https://localhost:8080/"
        },
        "id": "BPHtpckaDET9",
        "outputId": "0f7f1e3b-aa0e-40c3-a467-254ada0449a4"
      },
      "source": [
        "num_epochs = 40\n",
        "hist = model.fit(padded_latih, label_latih, epochs=num_epochs,\n",
        "                    validation_data=(padded_test, label_test),\n",
        "                    verbose=2, callbacks=[callbacks])"
      ],
      "execution_count": 16,
      "outputs": [
        {
          "output_type": "stream",
          "name": "stdout",
          "text": [
            "Epoch 1/40\n",
            "54/54 - 3s - loss: 1.0854 - accuracy: 0.3806 - val_loss: 1.0814 - val_accuracy: 0.3846 - 3s/epoch - 63ms/step\n",
            "Epoch 2/40\n",
            "54/54 - 1s - loss: 1.0632 - accuracy: 0.4104 - val_loss: 1.0226 - val_accuracy: 0.5058 - 507ms/epoch - 9ms/step\n",
            "Epoch 3/40\n",
            "54/54 - 1s - loss: 0.9259 - accuracy: 0.5231 - val_loss: 0.8486 - val_accuracy: 0.6084 - 530ms/epoch - 10ms/step\n",
            "Epoch 4/40\n",
            "54/54 - 1s - loss: 0.7657 - accuracy: 0.6760 - val_loss: 0.6924 - val_accuracy: 0.7389 - 523ms/epoch - 10ms/step\n",
            "Epoch 5/40\n",
            "54/54 - 0s - loss: 0.6233 - accuracy: 0.7513 - val_loss: 0.6090 - val_accuracy: 0.7436 - 485ms/epoch - 9ms/step\n",
            "Epoch 6/40\n",
            "54/54 - 0s - loss: 0.4944 - accuracy: 0.8272 - val_loss: 0.5557 - val_accuracy: 0.7995 - 499ms/epoch - 9ms/step\n",
            "Epoch 7/40\n",
            "54/54 - 0s - loss: 0.3788 - accuracy: 0.8698 - val_loss: 0.5084 - val_accuracy: 0.8228 - 500ms/epoch - 9ms/step\n",
            "Epoch 8/40\n",
            "54/54 - 1s - loss: 0.3279 - accuracy: 0.8908 - val_loss: 0.4998 - val_accuracy: 0.8252 - 519ms/epoch - 10ms/step\n",
            "Epoch 9/40\n",
            "54/54 - 0s - loss: 0.2799 - accuracy: 0.9066 - val_loss: 0.4451 - val_accuracy: 0.8462 - 492ms/epoch - 9ms/step\n",
            "Epoch 10/40\n",
            "54/54 - 0s - loss: 0.2040 - accuracy: 0.9294 - val_loss: 0.5389 - val_accuracy: 0.8462 - 500ms/epoch - 9ms/step\n",
            "Epoch 11/40\n",
            "54/54 - 1s - loss: 0.1985 - accuracy: 0.9370 - val_loss: 0.4812 - val_accuracy: 0.8462 - 506ms/epoch - 9ms/step\n",
            "Epoch 12/40\n",
            "54/54 - 1s - loss: 0.1690 - accuracy: 0.9586 - val_loss: 0.4640 - val_accuracy: 0.8578 - 512ms/epoch - 9ms/step\n",
            "Epoch 13/40\n",
            "54/54 - 1s - loss: 0.1833 - accuracy: 0.9428 - val_loss: 0.4900 - val_accuracy: 0.8578 - 501ms/epoch - 9ms/step\n",
            "Epoch 14/40\n",
            "54/54 - 1s - loss: 0.1401 - accuracy: 0.9545 - val_loss: 0.5755 - val_accuracy: 0.8648 - 530ms/epoch - 10ms/step\n",
            "Epoch 15/40\n",
            "54/54 - 0s - loss: 0.1223 - accuracy: 0.9597 - val_loss: 0.5645 - val_accuracy: 0.8788 - 497ms/epoch - 9ms/step\n",
            "Epoch 16/40\n",
            "54/54 - 1s - loss: 0.1356 - accuracy: 0.9574 - val_loss: 0.5076 - val_accuracy: 0.8788 - 514ms/epoch - 10ms/step\n",
            "Epoch 17/40\n",
            "54/54 - 1s - loss: 0.1212 - accuracy: 0.9673 - val_loss: 0.5750 - val_accuracy: 0.8788 - 506ms/epoch - 9ms/step\n",
            "Epoch 18/40\n",
            "54/54 - 1s - loss: 0.1062 - accuracy: 0.9667 - val_loss: 0.5148 - val_accuracy: 0.8718 - 511ms/epoch - 9ms/step\n",
            "Epoch 19/40\n",
            "54/54 - 1s - loss: 0.0886 - accuracy: 0.9702 - val_loss: 0.5970 - val_accuracy: 0.8811 - 516ms/epoch - 10ms/step\n",
            "Epoch 20/40\n",
            "54/54 - 1s - loss: 0.0819 - accuracy: 0.9749 - val_loss: 0.6126 - val_accuracy: 0.8881 - 523ms/epoch - 10ms/step\n",
            "Epoch 21/40\n",
            "54/54 - 1s - loss: 0.0868 - accuracy: 0.9726 - val_loss: 0.5893 - val_accuracy: 0.8881 - 533ms/epoch - 10ms/step\n",
            "Epoch 22/40\n",
            "54/54 - 1s - loss: 0.0944 - accuracy: 0.9708 - val_loss: 0.5560 - val_accuracy: 0.8858 - 526ms/epoch - 10ms/step\n",
            "Epoch 23/40\n",
            "54/54 - 1s - loss: 0.1639 - accuracy: 0.9597 - val_loss: 0.4474 - val_accuracy: 0.8904 - 521ms/epoch - 10ms/step\n",
            "Epoch 24/40\n",
            "54/54 - 0s - loss: 0.0630 - accuracy: 0.9825 - val_loss: 0.5518 - val_accuracy: 0.8834 - 495ms/epoch - 9ms/step\n",
            "Epoch 25/40\n",
            "54/54 - 0s - loss: 0.0614 - accuracy: 0.9778 - val_loss: 0.5690 - val_accuracy: 0.8904 - 484ms/epoch - 9ms/step\n",
            "Epoch 26/40\n",
            "54/54 - 1s - loss: 0.0747 - accuracy: 0.9778 - val_loss: 0.5857 - val_accuracy: 0.8904 - 505ms/epoch - 9ms/step\n",
            "Epoch 27/40\n",
            "54/54 - 1s - loss: 0.0619 - accuracy: 0.9772 - val_loss: 0.6152 - val_accuracy: 0.8834 - 504ms/epoch - 9ms/step\n",
            "Epoch 28/40\n",
            "54/54 - 1s - loss: 0.0561 - accuracy: 0.9848 - val_loss: 0.6168 - val_accuracy: 0.8998 - 507ms/epoch - 9ms/step\n",
            "Epoch 29/40\n",
            "54/54 - 0s - loss: 0.0659 - accuracy: 0.9784 - val_loss: 0.6416 - val_accuracy: 0.8834 - 490ms/epoch - 9ms/step\n",
            "Epoch 30/40\n",
            "54/54 - 0s - loss: 0.0623 - accuracy: 0.9807 - val_loss: 0.5848 - val_accuracy: 0.8974 - 499ms/epoch - 9ms/step\n",
            "Epoch 31/40\n",
            "54/54 - 1s - loss: 0.0701 - accuracy: 0.9813 - val_loss: 0.6435 - val_accuracy: 0.8788 - 516ms/epoch - 10ms/step\n",
            "Epoch 32/40\n",
            "54/54 - 1s - loss: 0.0592 - accuracy: 0.9766 - val_loss: 0.6368 - val_accuracy: 0.8951 - 520ms/epoch - 10ms/step\n",
            "Epoch 33/40\n",
            "\n",
            "Akurasi telah mencapai >90%!\n",
            "54/54 - 0s - loss: 0.0767 - accuracy: 0.9807 - val_loss: 0.6067 - val_accuracy: 0.9021 - 496ms/epoch - 9ms/step\n"
          ]
        }
      ]
    },
    {
      "cell_type": "code",
      "metadata": {
        "id": "J7MvMAy6DLXm"
      },
      "source": [
        "import matplotlib.pyplot as plt"
      ],
      "execution_count": 17,
      "outputs": []
    },
    {
      "cell_type": "code",
      "metadata": {
        "colab": {
          "base_uri": "https://localhost:8080/",
          "height": 295
        },
        "id": "dHF5kEQ1K4pP",
        "outputId": "93318196-8cba-42ba-a6f0-32fc32f1c093"
      },
      "source": [
        "# summarize history for accuracy\n",
        "plt.plot(hist.history['accuracy'])\n",
        "plt.plot(hist.history['val_accuracy'])\n",
        "plt.title('model accuracy')\n",
        "plt.ylabel('accuracy')\n",
        "plt.xlabel('epoch')\n",
        "plt.legend(['train', 'test'], loc='upper left')\n",
        "plt.show()"
      ],
      "execution_count": 18,
      "outputs": [
        {
          "output_type": "display_data",
          "data": {
            "image/png": "[encoded data removed]",
            "text/plain": [
              "<Figure size 432x288 with 1 Axes>"
            ]
          },
          "metadata": {
            "needs_background": "light"
          }
        }
      ]
    },
    {
      "cell_type": "code",
      "metadata": {
        "colab": {
          "base_uri": "https://localhost:8080/",
          "height": 295
        },
        "id": "oJfShQsmK9Wb",
        "outputId": "eb8cc55b-3d99-44f6-9b2a-c823c7ecad5d"
      },
      "source": [
        "# summarize history for loss\n",
        "plt.plot(hist.history['loss'])\n",
        "plt.plot(hist.history['val_loss'])\n",
        "plt.title('model loss')\n",
        "plt.ylabel('loss')\n",
        "plt.xlabel('epoch')\n",
        "plt.legend(['train', 'test'], loc='upper right')\n",
        "plt.show()"
      ],
      "execution_count": 19,
      "outputs": [
        {
          "output_type": "display_data",
          "data": {
            "image/png": "[encoded data removed]",
            "text/plain": [
              "<Figure size 432x288 with 1 Axes>"
            ]
          },
          "metadata": {
            "needs_background": "light"
          }
        }
      ]
    },
    {
      "cell_type": "code",
      "metadata": {
        "id": "IDvzYTKnpglJ"
      },
      "source": [
        "#function to make predictions\n",
        "def make_predictions(model, tokenizer, ml):\n",
        "  classes = ['Bisnis', 'Health', 'Tekno']\n",
        "  while True:\n",
        "    text = input('Masukkan judul berita: ')\n",
        "    text = [text]\n",
        "    t = tokenizer.texts_to_sequences(text)\n",
        "    t = pad_sequences(t, padding='pre', truncating='pre', maxlen=ml)\n",
        "    pred_t = model.predict(t)\n",
        "    print('Prediksi: ', classes[pred_t.argmax()])\n",
        "    lagi = input('Apakah ingin mencoba lagi? (y/n) :')\n",
        "    if lagi=='n' or lagi=='N':\n",
        "      break"
      ],
      "execution_count": 20,
      "outputs": []
    },
    {
      "cell_type": "code",
      "metadata": {
        "colab": {
          "base_uri": "https://localhost:8080/"
        },
        "id": "viDcdhfVq4Nf",
        "outputId": "e2f2d4e0-77e1-41be-831d-4896202f70a2"
      },
      "source": [
        "make_predictions(model, tokenizer, maxlen)"
      ],
      "execution_count": 21,
      "outputs": [
        {
          "name": "stdout",
          "output_type": "stream",
          "text": [
            "Masukkan judul berita: Risiko meningkat, investasi obligasi korporasi masih menarik\n",
            "Prediksi:  Bisnis\n",
            "Apakah ingin mencoba lagi? (y/n) :n\n"
          ]
        }
      ]
    },
    {
      "cell_type": "markdown",
      "source": [
        "# Simpan Model"
      ],
      "metadata": {
        "id": "z9qURfIAclRe"
      }
    },
    {
      "cell_type": "code",
      "metadata": {
        "id": "KOBNU4XRrHh2"
      },
      "source": [
        "# Simpan dalam format HDF5\n",
        "model.save(\"model.h5\")"
      ],
      "execution_count": 22,
      "outputs": []
    },
    {
      "cell_type": "code",
      "source": [
        "# Install tensorflowjs\n",
        "!pip install tensorflowjs"
      ],
      "metadata": {
        "id": "Hf4LMeQ4c50X",
        "outputId": "d214b1bd-7a39-4362-eb04-05274c3e3306",
        "colab": {
          "base_uri": "https://localhost:8080/"
        }
      },
      "execution_count": 23,
      "outputs": [
        {
          "output_type": "stream",
          "name": "stdout",
          "text": [
            "Collecting tensorflowjs\n",
            "  Downloading tensorflowjs-3.12.0-py3-none-any.whl (77 kB)\n",
            "\u001b[?25l\r\u001b[K     |████▎                           | 10 kB 31.6 MB/s eta 0:00:01\r\u001b[K     |████████▌                       | 20 kB 35.5 MB/s eta 0:00:01\r\u001b[K     |████████████▊                   | 30 kB 13.1 MB/s eta 0:00:01\r\u001b[K     |█████████████████               | 40 kB 10.4 MB/s eta 0:00:01\r\u001b[K     |█████████████████████▏          | 51 kB 7.0 MB/s eta 0:00:01\r\u001b[K     |█████████████████████████▍      | 61 kB 7.1 MB/s eta 0:00:01\r\u001b[K     |█████████████████████████████▊  | 71 kB 7.2 MB/s eta 0:00:01\r\u001b[K     |████████████████████████████████| 77 kB 3.8 MB/s \n",
            "\u001b[?25hRequirement already satisfied: tensorflow<3,>=2.1.0 in /usr/local/lib/python3.7/dist-packages (from tensorflowjs) (2.7.0)\n",
            "Requirement already satisfied: tensorflow-hub<0.13,>=0.7.0 in /usr/local/lib/python3.7/dist-packages (from tensorflowjs) (0.12.0)\n",
            "Requirement already satisfied: six<2,>=1.12.0 in /usr/local/lib/python3.7/dist-packages (from tensorflowjs) (1.15.0)\n",
            "Requirement already satisfied: wheel<1.0,>=0.32.0 in /usr/local/lib/python3.7/dist-packages (from tensorflow<3,>=2.1.0->tensorflowjs) (0.37.0)\n",
            "Requirement already satisfied: flatbuffers<3.0,>=1.12 in /usr/local/lib/python3.7/dist-packages (from tensorflow<3,>=2.1.0->tensorflowjs) (2.0)\n",
            "Requirement already satisfied: google-pasta>=0.1.1 in /usr/local/lib/python3.7/dist-packages (from tensorflow<3,>=2.1.0->tensorflowjs) (0.2.0)\n",
            "Requirement already satisfied: h5py>=2.9.0 in /usr/local/lib/python3.7/dist-packages (from tensorflow<3,>=2.1.0->tensorflowjs) (3.1.0)\n",
            "Requirement already satisfied: astunparse>=1.6.0 in /usr/local/lib/python3.7/dist-packages (from tensorflow<3,>=2.1.0->tensorflowjs) (1.6.3)\n",
            "Requirement already satisfied: gast<0.5.0,>=0.2.1 in /usr/local/lib/python3.7/dist-packages (from tensorflow<3,>=2.1.0->tensorflowjs) (0.4.0)\n",
            "Requirement already satisfied: tensorflow-io-gcs-filesystem>=0.21.0 in /usr/local/lib/python3.7/dist-packages (from tensorflow<3,>=2.1.0->tensorflowjs) (0.22.0)\n",
            "Requirement already satisfied: grpcio<2.0,>=1.24.3 in /usr/local/lib/python3.7/dist-packages (from tensorflow<3,>=2.1.0->tensorflowjs) (1.42.0)\n",
            "Requirement already satisfied: keras<2.8,>=2.7.0rc0 in /usr/local/lib/python3.7/dist-packages (from tensorflow<3,>=2.1.0->tensorflowjs) (2.7.0)\n",
            "Requirement already satisfied: termcolor>=1.1.0 in /usr/local/lib/python3.7/dist-packages (from tensorflow<3,>=2.1.0->tensorflowjs) (1.1.0)\n",
            "Requirement already satisfied: numpy>=1.14.5 in /usr/local/lib/python3.7/dist-packages (from tensorflow<3,>=2.1.0->tensorflowjs) (1.19.5)\n",
            "Requirement already satisfied: keras-preprocessing>=1.1.1 in /usr/local/lib/python3.7/dist-packages (from tensorflow<3,>=2.1.0->tensorflowjs) (1.1.2)\n",
            "Requirement already satisfied: wrapt>=1.11.0 in /usr/local/lib/python3.7/dist-packages (from tensorflow<3,>=2.1.0->tensorflowjs) (1.13.3)\n",
            "Requirement already satisfied: tensorboard~=2.6 in /usr/local/lib/python3.7/dist-packages (from tensorflow<3,>=2.1.0->tensorflowjs) (2.7.0)\n",
            "Requirement already satisfied: libclang>=9.0.1 in /usr/local/lib/python3.7/dist-packages (from tensorflow<3,>=2.1.0->tensorflowjs) (12.0.0)\n",
            "Requirement already satisfied: absl-py>=0.4.0 in /usr/local/lib/python3.7/dist-packages (from tensorflow<3,>=2.1.0->tensorflowjs) (0.12.0)\n",
            "Requirement already satisfied: opt-einsum>=2.3.2 in /usr/local/lib/python3.7/dist-packages (from tensorflow<3,>=2.1.0->tensorflowjs) (3.3.0)\n",
            "Requirement already satisfied: tensorflow-estimator<2.8,~=2.7.0rc0 in /usr/local/lib/python3.7/dist-packages (from tensorflow<3,>=2.1.0->tensorflowjs) (2.7.0)\n",
            "Requirement already satisfied: typing-extensions>=3.6.6 in /usr/local/lib/python3.7/dist-packages (from tensorflow<3,>=2.1.0->tensorflowjs) (3.10.0.2)\n",
            "Requirement already satisfied: protobuf>=3.9.2 in /usr/local/lib/python3.7/dist-packages (from tensorflow<3,>=2.1.0->tensorflowjs) (3.17.3)\n",
            "Requirement already satisfied: cached-property in /usr/local/lib/python3.7/dist-packages (from h5py>=2.9.0->tensorflow<3,>=2.1.0->tensorflowjs) (1.5.2)\n",
            "Requirement already satisfied: requests<3,>=2.21.0 in /usr/local/lib/python3.7/dist-packages (from tensorboard~=2.6->tensorflow<3,>=2.1.0->tensorflowjs) (2.23.0)\n",
            "Requirement already satisfied: setuptools>=41.0.0 in /usr/local/lib/python3.7/dist-packages (from tensorboard~=2.6->tensorflow<3,>=2.1.0->tensorflowjs) (57.4.0)\n",
            "Requirement already satisfied: google-auth-oauthlib<0.5,>=0.4.1 in /usr/local/lib/python3.7/dist-packages (from tensorboard~=2.6->tensorflow<3,>=2.1.0->tensorflowjs) (0.4.6)\n",
            "Requirement already satisfied: tensorboard-plugin-wit>=1.6.0 in /usr/local/lib/python3.7/dist-packages (from tensorboard~=2.6->tensorflow<3,>=2.1.0->tensorflowjs) (1.8.0)\n",
            "Requirement already satisfied: werkzeug>=0.11.15 in /usr/local/lib/python3.7/dist-packages (from tensorboard~=2.6->tensorflow<3,>=2.1.0->tensorflowjs) (1.0.1)\n",
            "Requirement already satisfied: tensorboard-data-server<0.7.0,>=0.6.0 in /usr/local/lib/python3.7/dist-packages (from tensorboard~=2.6->tensorflow<3,>=2.1.0->tensorflowjs) (0.6.1)\n",
            "Requirement already satisfied: google-auth<3,>=1.6.3 in /usr/local/lib/python3.7/dist-packages (from tensorboard~=2.6->tensorflow<3,>=2.1.0->tensorflowjs) (1.35.0)\n",
            "Requirement already satisfied: markdown>=2.6.8 in /usr/local/lib/python3.7/dist-packages (from tensorboard~=2.6->tensorflow<3,>=2.1.0->tensorflowjs) (3.3.6)\n",
            "Requirement already satisfied: pyasn1-modules>=0.2.1 in /usr/local/lib/python3.7/dist-packages (from google-auth<3,>=1.6.3->tensorboard~=2.6->tensorflow<3,>=2.1.0->tensorflowjs) (0.2.8)\n",
            "Requirement already satisfied: cachetools<5.0,>=2.0.0 in /usr/local/lib/python3.7/dist-packages (from google-auth<3,>=1.6.3->tensorboard~=2.6->tensorflow<3,>=2.1.0->tensorflowjs) (4.2.4)\n",
            "Requirement already satisfied: rsa<5,>=3.1.4 in /usr/local/lib/python3.7/dist-packages (from google-auth<3,>=1.6.3->tensorboard~=2.6->tensorflow<3,>=2.1.0->tensorflowjs) (4.8)\n",
            "Requirement already satisfied: requests-oauthlib>=0.7.0 in /usr/local/lib/python3.7/dist-packages (from google-auth-oauthlib<0.5,>=0.4.1->tensorboard~=2.6->tensorflow<3,>=2.1.0->tensorflowjs) (1.3.0)\n",
            "Requirement already satisfied: importlib-metadata>=4.4 in /usr/local/lib/python3.7/dist-packages (from markdown>=2.6.8->tensorboard~=2.6->tensorflow<3,>=2.1.0->tensorflowjs) (4.8.2)\n",
            "Requirement already satisfied: zipp>=0.5 in /usr/local/lib/python3.7/dist-packages (from importlib-metadata>=4.4->markdown>=2.6.8->tensorboard~=2.6->tensorflow<3,>=2.1.0->tensorflowjs) (3.6.0)\n",
            "Requirement already satisfied: pyasn1<0.5.0,>=0.4.6 in /usr/local/lib/python3.7/dist-packages (from pyasn1-modules>=0.2.1->google-auth<3,>=1.6.3->tensorboard~=2.6->tensorflow<3,>=2.1.0->tensorflowjs) (0.4.8)\n",
            "Requirement already satisfied: chardet<4,>=3.0.2 in /usr/local/lib/python3.7/dist-packages (from requests<3,>=2.21.0->tensorboard~=2.6->tensorflow<3,>=2.1.0->tensorflowjs) (3.0.4)\n",
            "Requirement already satisfied: urllib3!=1.25.0,!=1.25.1,<1.26,>=1.21.1 in /usr/local/lib/python3.7/dist-packages (from requests<3,>=2.21.0->tensorboard~=2.6->tensorflow<3,>=2.1.0->tensorflowjs) (1.24.3)\n",
            "Requirement already satisfied: idna<3,>=2.5 in /usr/local/lib/python3.7/dist-packages (from requests<3,>=2.21.0->tensorboard~=2.6->tensorflow<3,>=2.1.0->tensorflowjs) (2.10)\n",
            "Requirement already satisfied: certifi>=2017.4.17 in /usr/local/lib/python3.7/dist-packages (from requests<3,>=2.21.0->tensorboard~=2.6->tensorflow<3,>=2.1.0->tensorflowjs) (2021.10.8)\n",
            "Requirement already satisfied: oauthlib>=3.0.0 in /usr/local/lib/python3.7/dist-packages (from requests-oauthlib>=0.7.0->google-auth-oauthlib<0.5,>=0.4.1->tensorboard~=2.6->tensorflow<3,>=2.1.0->tensorflowjs) (3.1.1)\n",
            "Installing collected packages: tensorflowjs\n",
            "Successfully installed tensorflowjs-3.12.0\n"
          ]
        }
      ]
    },
    {
      "cell_type": "code",
      "source": [
        "# Convert model.h5 ke tfjs_model\n",
        "!tensorflowjs_converter --input_format=keras model.h5 tfjs_model"
      ],
      "metadata": {
        "id": "T9uFi7GYc9oD"
      },
      "execution_count": 25,
      "outputs": []
    }
  ]
}